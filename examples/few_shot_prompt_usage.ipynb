{
  "cells": [
    {
      "cell_type": "markdown",
      "metadata": {
        "id": "view-in-github",
        "colab_type": "text"
      },
      "source": [
        "<a href=\"https://colab.research.google.com/github/lalroshan590/quality-prompts/blob/main/examples/few_shot_prompt_usage.ipynb\" target=\"_parent\"><img src=\"https://colab.research.google.com/assets/colab-badge.svg\" alt=\"Open In Colab\"/></a>"
      ]
    },
    {
      "cell_type": "markdown",
      "metadata": {
        "id": "u9IiRCU16aTP"
      },
      "source": [
        "<a target=\"_blank\" href=\"https://colab.research.google.com/github/sarthakrastogi/quality-prompts/blob/main/examples/few_shot_prompt_usage.ipynb\">\n",
        "  <img src=\"https://colab.research.google.com/assets/colab-badge.svg\" alt=\"Open In Colab\"/>\n",
        "</a>"
      ]
    },
    {
      "cell_type": "code",
      "execution_count": null,
      "metadata": {
        "id": "4HLm6Km16aTT"
      },
      "outputs": [],
      "source": [
        "%%capture\n",
        "!pip install quality-prompts"
      ]
    },
    {
      "cell_type": "code",
      "execution_count": null,
      "metadata": {
        "id": "pJjvCPC36aTW"
      },
      "outputs": [],
      "source": [
        "import requests\n",
        "import json\n",
        "import os\n",
        "\n",
        "from quality_prompts.prompt import QualityPrompt\n",
        "from quality_prompts.exemplars import ExemplarStore, Exemplar\n",
        "from quality_prompts.utils.llm import get_embedding"
      ]
    },
    {
      "cell_type": "code",
      "execution_count": null,
      "metadata": {
        "id": "FpKK8vU96aTX"
      },
      "outputs": [],
      "source": [
        "os.environ['OPENAI_API_KEY'] = \"YOUR_API_KEY_HERE\""
      ]
    },
    {
      "cell_type": "markdown",
      "metadata": {
        "id": "TSL_7EYS6aTY"
      },
      "source": [
        "### Initialise sample exemplars for use in few-shot prompt"
      ]
    },
    {
      "cell_type": "code",
      "execution_count": null,
      "metadata": {
        "id": "klEJ-0RN6aTZ"
      },
      "outputs": [],
      "source": [
        "url = \"https://github.com/sarthakrastogi/quality-prompts/raw/main/examples/sample_exemplars.json\"\n",
        "response = requests.get(url)\n",
        "sample_exemplars = json.loads(response.text)\n",
        "\n",
        "exemplars = [Exemplar(input=e['input'], label=str(e['label']), input_embedding=get_embedding(e['input'])) for e in sample_exemplars]\n",
        "exemplar_store = ExemplarStore(exemplars=exemplars)"
      ]
    },
    {
      "cell_type": "markdown",
      "metadata": {
        "id": "iQ1lpUeH6aTa"
      },
      "source": [
        "### Define your prompt's components and initialise it"
      ]
    },
    {
      "cell_type": "code",
      "execution_count": null,
      "metadata": {
        "id": "EqQnWAtP6aTb"
      },
      "outputs": [],
      "source": [
        "directive = \"\"\"You are given a document and your task is to create a knowledge graph from it.\"\"\"\n",
        "\n",
        "additional_information = \"\"\"\n",
        "In the knowledge graph, entities such as people, places, objects, institutions, topics, ideas, etc. are represented as nodes.\n",
        "Whereas the relationships and actions between them are represented as edges.\n",
        "\"\"\"\n",
        "\n",
        "output_formatting = \"\"\"\n",
        "You will respond with a knowledge graph in the given JSON format:\n",
        "\n",
        "[\n",
        "    {\"entity\" : \"Entity_name\", \"connections\" : [\n",
        "        {\"entity\" : \"Connected_entity_1\", \"relationship\" : \"Relationship_with_connected_entity_1},\n",
        "        {\"entity\" : \"Connected_entity_2\", \"relationship\" : \"Relationship_with_connected_entity_2},\n",
        "        ]\n",
        "    },\n",
        "    {\"entity\" : \"Entity_name\", \"connections\" : [\n",
        "        {\"entity\" : \"Connected_entity_1\", \"relationship\" : \"Relationship_with_connected_entity_1},\n",
        "        {\"entity\" : \"Connected_entity_2\", \"relationship\" : \"Relationship_with_connected_entity_2},\n",
        "        ]\n",
        "    },\n",
        "]\n",
        "\n",
        "You must strictly respond in the given JSON format or your response will not be parsed correctly!\n",
        "\"\"\"\n",
        "\n",
        "prompt = QualityPrompt(\n",
        "                        directive=directive,\n",
        "                        additional_information=additional_information,\n",
        "                        output_formatting=output_formatting,\n",
        "                        exemplar_store=exemplar_store\n",
        "                       )"
      ]
    },
    {
      "cell_type": "code",
      "execution_count": null,
      "metadata": {
        "id": "gug4VCmv6aTc"
      },
      "outputs": [],
      "source": [
        "input_text = \"list the disorders included in cvd\""
      ]
    },
    {
      "cell_type": "markdown",
      "metadata": {
        "id": "xEiOHLYD6aTd"
      },
      "source": [
        "### Apply few-shot prompting\n",
        "\n",
        "This searches through your set of exemplars and uses kNN to search the most relevant exemplars to be included in context."
      ]
    },
    {
      "cell_type": "code",
      "execution_count": null,
      "metadata": {
        "id": "7TFLuvK06aTf"
      },
      "outputs": [],
      "source": [
        "prompt.few_shot(input_text=input_text, n_shots=2)"
      ]
    },
    {
      "cell_type": "code",
      "execution_count": null,
      "metadata": {
        "id": "OKWXI1Mv6aTg",
        "outputId": "5d87efdc-8bb8-4220-a66f-1aee1e7d94be"
      },
      "outputs": [
        {
          "name": "stdout",
          "output_type": "stream",
          "text": [
            "Cardiovascular disease (CVD) encompasses a spectrum of disorders involving the heart and vasculature, prominently including atherosclerosis, characterized by endothelial dysfunction and the accumulation of lipid-laden plaques. These pathophysiological processes often precipitate myocardial infarction and cerebrovascular accidents, arising from the rupture of vulnerable plaques and subsequent thrombogenesis. [{'entity': 'cardiovascular disease (cvd)', 'connections': [{'entity': 'heart', 'relationship': 'involves'}, {'entity': 'vasculature', 'relationship': 'involves'}, {'entity': 'atherosclerosis', 'relationship': 'associated disorder'}, {'entity': 'endothelial dysfunction', 'relationship': 'characteristic feature'}, {'entity': 'lipid-laden plaques', 'relationship': 'associated feature'}, {'entity': 'myocardial infarction', 'relationship': 'common complication'}, {'entity': 'cerebrovascular accidents', 'relationship': 'common complication'}, {'entity': 'plaque rupture', 'relationship': 'cause of complications'}, {'entity': 'thrombogenesis', 'relationship': 'subsequent process'}]}, {'entity': 'atherosclerosis', 'connections': [{'entity': 'endothelial dysfunction', 'relationship': 'causes'}, {'entity': 'lipid-laden plaques', 'relationship': 'result of'}, {'entity': 'plaque rupture', 'relationship': 'leads to complications'}]}]\n",
            "The epidemiological burden of cardiovascular disease underscores the imperative for ongoing research into genetic predispositions and the optimization of primary and secondary prevention strategies.Cardiovascular disease also significantly intersects with metabolic syndrome, wherein insulin resistance and visceral adiposity contribute to endothelial dysfunction and systemic inflammation, further accelerating atherogenic processes. [{'entity': 'cardiovascular disease', 'connections': [{'entity': 'research', 'relationship': 'ongoing research into genetic predispositions and prevention strategies'}, {'entity': 'metabolic syndrome', 'relationship': 'significantly intersects with'}]}, {'entity': 'metabolic syndrome', 'connections': [{'entity': 'insulin resistance', 'relationship': 'contributes to endothelial dysfunction and inflammation'}, {'entity': 'visceral adiposity', 'relationship': 'contributes to endothelial dysfunction and inflammation'}]}]\n"
          ]
        }
      ],
      "source": [
        "# check the relevant exemplars searched for the user's query\n",
        "\n",
        "for exemplar in prompt.few_shot_examples:\n",
        "    print(exemplar.input, exemplar.label)"
      ]
    },
    {
      "cell_type": "markdown",
      "metadata": {
        "id": "Wo-vOqQo6aTj"
      },
      "source": [
        "### Apply other prompting techniques"
      ]
    },
    {
      "cell_type": "code",
      "execution_count": null,
      "metadata": {
        "id": "bF1ypjvd6aTj"
      },
      "outputs": [],
      "source": [
        "prompt.system2attenton(input_text=input_text)"
      ]
    },
    {
      "cell_type": "markdown",
      "metadata": {
        "id": "hoGIFduh6aTk"
      },
      "source": [
        "### Finally compile your prompt for use in an LLM"
      ]
    },
    {
      "cell_type": "code",
      "execution_count": null,
      "metadata": {
        "id": "pGSRDZCM6aTl",
        "outputId": "e1be4782-e148-400d-98c8-6087424f6e79"
      },
      "outputs": [
        {
          "name": "stdout",
          "output_type": "stream",
          "text": [
            "You are given a document and your task is to create a knowledge graph from it.\n",
            "        In the knowledge graph, entities such as people, places, objects, institutions, topics, ideas, etc. are represented as nodes. Whereas the relationships and actions between them are represented as edges.\n",
            "        Example input: Cardiovascular disease (CVD) encompasses a spectrum of disorders involving the heart and vasculature, prominently including atherosclerosis, characterized by endothelial dysfunction and the accumulation of lipid-laden plaques. These pathophysiological processes often precipitate myocardial infarction and cerebrovascular accidents, arising from the rupture of vulnerable plaques and subsequent thrombogenesis.\n",
            "Example output: [{'entity': 'cardiovascular disease (cvd)', 'connections': [{'entity': 'heart', 'relationship': 'involves'}, {'entity': 'vasculature', 'relationship': 'involves'}, {'entity': 'atherosclerosis', 'relationship': 'associated disorder'}, {'entity': 'endothelial dysfunction', 'relationship': 'characteristic feature'}, {'entity': 'lipid-laden plaques', 'relationship': 'associated feature'}, {'entity': 'myocardial infarction', 'relationship': 'common complication'}, {'entity': 'cerebrovascular accidents', 'relationship': 'common complication'}, {'entity': 'plaque rupture', 'relationship': 'cause of complications'}, {'entity': 'thrombogenesis', 'relationship': 'subsequent process'}]}, {'entity': 'atherosclerosis', 'connections': [{'entity': 'endothelial dysfunction', 'relationship': 'causes'}, {'entity': 'lipid-laden plaques', 'relationship': 'result of'}, {'entity': 'plaque rupture', 'relationship': 'leads to complications'}]}]\n",
            "\n",
            "Example input: The epidemiological burden of cardiovascular disease underscores the imperative for ongoing research into genetic predispositions and the optimization of primary and secondary prevention strategies.Cardiovascular disease also significantly intersects with metabolic syndrome, wherein insulin resistance and visceral adiposity contribute to endothelial dysfunction and systemic inflammation, further accelerating atherogenic processes.\n",
            "Example output: [{'entity': 'cardiovascular disease', 'connections': [{'entity': 'research', 'relationship': 'ongoing research into genetic predispositions and prevention strategies'}, {'entity': 'metabolic syndrome', 'relationship': 'significantly intersects with'}]}, {'entity': 'metabolic syndrome', 'connections': [{'entity': 'insulin resistance', 'relationship': 'contributes to endothelial dysfunction and inflammation'}, {'entity': 'visceral adiposity', 'relationship': 'contributes to endothelial dysfunction and inflammation'}]}]\n",
            "\n",
            "        \n",
            "You will respond with a knowledge graph in the given JSON format:\n",
            "\n",
            "[\n",
            "    {\"entity\" : \"Entity_name\", \"connections\" : [\n",
            "        {\"entity\" : \"Connected_entity_1\", \"relationship\" : \"Relationship_with_connected_entity_1},\n",
            "        {\"entity\" : \"Connected_entity_2\", \"relationship\" : \"Relationship_with_connected_entity_2},\n",
            "        ]\n",
            "    },\n",
            "    {\"entity\" : \"Entity_name\", \"connections\" : [\n",
            "        {\"entity\" : \"Connected_entity_1\", \"relationship\" : \"Relationship_with_connected_entity_1},\n",
            "        {\"entity\" : \"Connected_entity_2\", \"relationship\" : \"Relationship_with_connected_entity_2},\n",
            "        ]\n",
            "    },\n",
            "]\n",
            "\n",
            "You must strictly respond in the given JSON format or your response will not be parsed correctly!\n",
            "\n",
            "        \n"
          ]
        }
      ],
      "source": [
        "print(prompt.compile())"
      ]
    },
    {
      "cell_type": "code",
      "execution_count": null,
      "metadata": {
        "id": "vt9JjQiV6aTm"
      },
      "outputs": [],
      "source": []
    }
  ],
  "metadata": {
    "kernelspec": {
      "display_name": "base",
      "language": "python",
      "name": "python3"
    },
    "language_info": {
      "codemirror_mode": {
        "name": "ipython",
        "version": 3
      },
      "file_extension": ".py",
      "mimetype": "text/x-python",
      "name": "python",
      "nbconvert_exporter": "python",
      "pygments_lexer": "ipython3",
      "version": "3.10.9"
    },
    "colab": {
      "provenance": [],
      "include_colab_link": true
    }
  },
  "nbformat": 4,
  "nbformat_minor": 0
}